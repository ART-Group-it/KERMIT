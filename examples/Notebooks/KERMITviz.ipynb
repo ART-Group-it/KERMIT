{
 "cells": [
  {
   "cell_type": "markdown",
   "metadata": {
    "id": "vIGLp3IjJP8g"
   },
   "source": [
    "# KERMIT - Visualizer -\n",
    "\n",
    "In this notebook you can view the heat parse tree of a sentence data input.\n",
    "\n",
    "\n",
    "* *Note: Before using this notebook you must have gone through the construction of the syntactic dataset and training the model with weight saving.*\n",
    "\n",
    "* *If you don't want to train your model and try out KERMIT you can use the colab version (https://colab.research.google.com/github/ART-Group-it/KERMIT/blob/master/examples/Notebooks/KERMITviz.ipynb).*"
   ]
  },
  {
   "cell_type": "code",
   "execution_count": null,
   "metadata": {
    "colab": {
     "base_uri": "https://localhost:8080/",
     "height": 34
    },
    "executionInfo": {
     "elapsed": 18672,
     "status": "ok",
     "timestamp": 1601392016426,
     "user": {
      "displayName": "Kermit Muppets",
      "photoUrl": "",
      "userId": "14762939017184396674"
     },
     "user_tz": -120
    },
    "id": "6tiAP3lZ_fKs",
    "outputId": "e945ad54-8483-425f-980d-62c470e45b38"
   },
   "outputs": [],
   "source": [
    "#to display on an html page the heat parse trees\n",
    "! pip install -qqq pyngrok"
   ]
  },
  {
   "cell_type": "code",
   "execution_count": null,
   "metadata": {
    "executionInfo": {
     "elapsed": 78649,
     "status": "ok",
     "timestamp": 1601392076430,
     "user": {
      "displayName": "Kermit Muppets",
      "photoUrl": "",
      "userId": "14762939017184396674"
     },
     "user_tz": -120
    },
    "id": "feuAMz7sn7W-"
   },
   "outputs": [],
   "source": [
    "import os\n",
    "import sys\n",
    "import transformers\n",
    "import torch\n",
    "import torch, pickle, copy, transformers\n",
    "from torchtext import data as datx\n",
    "import pandas as pd\n",
    "from torch import nn\n",
    "import torch.nn.functional as F\n",
    "from torch import optim\n",
    "from tqdm import tqdm\n"
   ]
  },
  {
   "cell_type": "code",
   "execution_count": null,
   "metadata": {},
   "outputs": [],
   "source": [
    "#working gpu control\n",
    "torch.cuda.is_available()\n",
    "torch.cuda.get_device_name(0)"
   ]
  },
  {
   "cell_type": "markdown",
   "metadata": {},
   "source": [
    "## Model definition and weights loading\n",
    "\n",
    "* *Note: Remember that you must have saved the weights in .pt format in your notebook2 (KERMIT_training.ipynb).*"
   ]
  },
  {
   "cell_type": "code",
   "execution_count": null,
   "metadata": {
    "colab": {
     "base_uri": "https://localhost:8080/",
     "height": 679,
     "referenced_widgets": [
      "c2ab08d012194caaa9ab0c1bcde87bd7",
      "a9cee0ad0c9b4d919270faf42b1a4112",
      "6fa14d37b6794d25b16fb7028b2b6e39",
      "8d7f60e81f754a258919b34858a7865a",
      "8d810c70155e4c5e9bd846c79ccf774d",
      "bd1cfb57c1674ec69478fd49aeb8dccc",
      "4235708383084754b80fab7e2bf813b2",
      "e154956665e341b283bfe3346ac204f3",
      "7dacc6829a6f4d3098bf84eb3b2550b8",
      "a298aee19a7e4b8cb30e6a8c78aa497a",
      "3872b590270a45928926fbe9910602ee",
      "57d88193d5fb4d86a7447cb25beddc74",
      "defc390ee26644308b7c8bbafcfeba50",
      "f48260e8c64a45b585411c0877392415",
      "88b1510db98d47b3b960f24f303b00b7",
      "d9e4d5ca36ca4ac0a9f07a8aa5471524"
     ]
    },
    "executionInfo": {
     "elapsed": 132493,
     "status": "ok",
     "timestamp": 1601392130290,
     "user": {
      "displayName": "Kermit Muppets",
      "photoUrl": "",
      "userId": "14762939017184396674"
     },
     "user_tz": -120
    },
    "id": "mU2K07ctrevv",
    "outputId": "df953e26-b05a-4eb0-e115-acbc4d4932e2"
   },
   "outputs": [],
   "source": [
    "class DTBert(nn.Module):\n",
    "    def __init__(self, input_dim_bert, input_dim_dt, output_dim):\n",
    "        super().__init__()\n",
    "        self.bert = transformers.BertModel.from_pretrained('bert-base-uncased').to(\"cuda\" if torch.cuda.is_available() else \"cpu\")\n",
    "        self.synth_sem_linear = nn.Linear(input_dim_bert + input_dim_dt, output_dim)\n",
    "        \n",
    "    def forward(self, x_sem, x_synth):\n",
    "        with torch.no_grad():\n",
    "            x_sem = self.bert(x_sem)[0][:, 0, :]\n",
    "        x_tot = torch.cat((x_sem, x_synth), 1)\n",
    "        x_tot = self.synth_sem_linear(x_tot)\n",
    "        out = F.log_softmax(x_tot, dim=1)\n",
    "        return out\n",
    "        \n",
    "\n",
    "        \n",
    "BERT_DIM = 768\n",
    "TREE_DIM = 4000\n",
    "\n",
    "#number of class of dataset\n",
    "OUTPUT_DIM = 5\n",
    "\n",
    "#instantiate the model\n",
    "model = DTBert(BERT_DIM, TREE_DIM, OUTPUT_DIM)        \n",
    "model.cuda()\n",
    "\n",
    "#Define a Loss function and optimizer\n",
    "criterion = nn.NLLLoss()\n",
    "optimizer = optim.AdamW(model.parameters(), lr=3e-5)\n",
    "\n",
    "#weights of your model\n",
    "pathModel = './model.pt'\n",
    "\n",
    "model = torch.load(pathModel)\n",
    "\n"
   ]
  },
  {
   "cell_type": "markdown",
   "metadata": {
    "id": "VYtO9sTGM95k"
   },
   "source": [
    "## kerMIT applied to a single instance given in input"
   ]
  },
  {
   "cell_type": "code",
   "execution_count": null,
   "metadata": {
    "executionInfo": {
     "elapsed": 132961,
     "status": "ok",
     "timestamp": 1601392130764,
     "user": {
      "displayName": "Kermit Muppets",
      "photoUrl": "",
      "userId": "14762939017184396674"
     },
     "user_tz": -120
    },
    "id": "WA1t7aQ3SIjx"
   },
   "outputs": [],
   "source": [
    "from kerMIT.dtk import DT\n",
    "from kerMIT.operation import fast_shuffled_convolution\n",
    "from kerMIT.explain import activationSubtreeLRP as act\n",
    "from kerMIT.explain import modelToExplain as mte\n",
    "from kerMIT.explain import kerMITviz \n",
    "\n",
    "#parser definition\n",
    "calculator = DT(dimension=4000, LAMBDA=0.4, operation=fast_shuffled_convolution)"
   ]
  },
  {
   "cell_type": "code",
   "execution_count": null,
   "metadata": {
    "colab": {
     "base_uri": "https://localhost:8080/",
     "height": 66,
     "referenced_widgets": [
      "5fbfd0f44de34822ad7f45a955d0498c",
      "25791cc3687d410c8d43eee4e6cf2859",
      "8a089600099740188e4f6a694d17e824",
      "abab37bb762a42b7b388339f9e0c1582",
      "eb5d9b378763414c8d82f63eeb8db9ac",
      "52382dd2d7154ed7948149812f1dcecf",
      "d8a69eeaa4ff4eee979669a1fe7fe44e",
      "ced6bc90616344c8b83be316395f08bd"
     ]
    },
    "executionInfo": {
     "elapsed": 143198,
     "status": "ok",
     "timestamp": 1601392141005,
     "user": {
      "displayName": "Kermit Muppets",
      "photoUrl": "",
      "userId": "14762939017184396674"
     },
     "user_tz": -120
    },
    "id": "lT3IjF9IWZRH",
    "outputId": "136c7010-d711-421e-b26a-a857519477c6"
   },
   "outputs": [],
   "source": [
    "from tree_encode import parse as parse_tree\n",
    "from kerMIT.samples import utils\n",
    "\n",
    "#sentence in input\n",
    "sentence = \"Don't waste your time.  We had two different people come to our house to give us estimates for a deck (one of them the OWNER).\"\n",
    "#target value\n",
    "target = 1 \n",
    "index = 2\n",
    "\n",
    "\n",
    "tree_sentence, dtk_sentence, bert_sentence = utils.get_sentence(sentence, calculator)"
   ]
  },
  {
   "cell_type": "code",
   "execution_count": null,
   "metadata": {
    "colab": {
     "base_uri": "https://localhost:8080/",
     "height": 120
    },
    "executionInfo": {
     "elapsed": 143193,
     "status": "ok",
     "timestamp": 1601392141006,
     "user": {
      "displayName": "Kermit Muppets",
      "photoUrl": "",
      "userId": "14762939017184396674"
     },
     "user_tz": -120
    },
    "id": "mWLsBCu3i0s5",
    "outputId": "1ded94ac-ea6f-4817-d1bb-f7336921d908"
   },
   "outputs": [],
   "source": [
    "tree_sentence"
   ]
  },
  {
   "cell_type": "code",
   "execution_count": null,
   "metadata": {
    "executionInfo": {
     "elapsed": 143620,
     "status": "ok",
     "timestamp": 1601392141438,
     "user": {
      "displayName": "Kermit Muppets",
      "photoUrl": "",
      "userId": "14762939017184396674"
     },
     "user_tz": -120
    },
    "id": "zsxa8WRshrmw"
   },
   "outputs": [],
   "source": [
    "from  kerMIT.explain_pytorch import LRP_linear_layer as LRP_t\n",
    "\n",
    "#prediction of the input sentence\n",
    "y_predict = model.get_activation(bert_sentence, dtk_sentence).cpu()\n",
    "#calculation of contributions through the LRP algorithm\n",
    "hin, w, b, hout, Rout, bias_nb_units, eps, bias_factor = LRP_t.prepare_input_LRP(y_predict, dtk_sentence, model, BERT_DIM)\n",
    "Rin = LRP_t.lrp_linear_torch(hin.cpu(), w.cpu(), b.cpu(), hout.cpu(), Rout.cpu(), bias_nb_units, eps, bias_factor, debug=False)\n",
    "\n",
    "act_lrp = act.ActivationSubtreeLRP(calculator)\n",
    "act_tree_lrp = act_lrp.activationQC(Rin.detach().numpy(), tree_sentence)"
   ]
  },
  {
   "cell_type": "code",
   "execution_count": null,
   "metadata": {
    "colab": {
     "base_uri": "https://localhost:8080/",
     "height": 34
    },
    "executionInfo": {
     "elapsed": 143616,
     "status": "ok",
     "timestamp": 1601392141439,
     "user": {
      "displayName": "Kermit Muppets",
      "photoUrl": "",
      "userId": "14762939017184396674"
     },
     "user_tz": -120
    },
    "id": "gSCE00Edhvp-",
    "outputId": "add2c727-f6c3-4911-ebae-f633e482d87e"
   },
   "outputs": [],
   "source": [
    "from tree_encode import parse as parse_tree\n",
    "\n",
    "#visualization of previously extracted activations through heat parse tree\n",
    "heat_parse_tree = kerMITviz.assign_contribution_nodes(act_tree_lrp)\n",
    "#kerMITviz.show_kerMITviz(heat_parse_tree)"
   ]
  },
  {
   "cell_type": "code",
   "execution_count": null,
   "metadata": {
    "executionInfo": {
     "elapsed": 143610,
     "status": "ok",
     "timestamp": 1601392141439,
     "user": {
      "displayName": "Kermit Muppets",
      "photoUrl": "",
      "userId": "14762939017184396674"
     },
     "user_tz": -120
    },
    "id": "dG7XiU44jdHU"
   },
   "outputs": [],
   "source": [
    "import kerMIT\n",
    "import pathlib\n",
    "\n",
    "#Find the directory where the heat parse tree is contained\n",
    "def search_path():\n",
    "    path_file_html = os.path.join(kerMIT.__path__[0], 'ACTree', 'tree_visualizer_pyDTE','index.html')\n",
    "    script_path = str(pathlib.Path().absolute())\n",
    "    path_list = script_path.split(os.sep)\n",
    "    script_directory = path_list[0:len(path_list)-1]\n",
    "    script_directoryp= [\"../\" for i in script_directory]\n",
    "    rel_path = path_file_html\n",
    "    path = \"\".join(script_directoryp) + \"\" + rel_path[1:]\n",
    "    return path\n",
    "\n",
    "path_js = os.path.join(kerMIT.__path__[0], 'ACTree', 'tree_visualizer_pyDTE','heat_parse_trees','act_trees.js')\n",
    "path_html = search_path()"
   ]
  },
  {
   "cell_type": "markdown",
   "metadata": {},
   "source": [
    "## Visualisation of the heat parse tree"
   ]
  },
  {
   "cell_type": "code",
   "execution_count": null,
   "metadata": {
    "colab": {
     "base_uri": "https://localhost:8080/",
     "height": 544
    },
    "executionInfo": {
     "elapsed": 191450,
     "status": "error",
     "timestamp": 1601392189297,
     "user": {
      "displayName": "Kermit Muppets",
      "photoUrl": "",
      "userId": "14762939017184396674"
     },
     "user_tz": -120
    },
    "id": "dO8BhwucOnuA",
    "outputId": "8d2124ef-61d3-4106-8f9f-e92c93139ce9"
   },
   "outputs": [],
   "source": [
    "import http.server\n",
    "import socketserver\n",
    "from pyngrok import ngrok\n",
    "import os\n",
    "\n",
    "PORT = 5000\n",
    "\n",
    "VISUALIZER_URL = path_html\n",
    "\n",
    "\n",
    "os.chdir(VISUALIZER_URL)\n",
    "url = ngrok.connect(port=PORT)\n",
    "Handler = http.server.SimpleHTTPRequestHandler\n",
    "\n",
    "with socketserver.TCPServer((\"\", PORT), Handler) as httpd:\n",
    "    print(\"The visualizer is running at the following address:\", url)\n",
    "    httpd.serve_forever()"
   ]
  }
 ],
 "metadata": {
  "accelerator": "GPU",
  "colab": {
   "collapsed_sections": [],
   "name": "KERMITviz.ipynb",
   "provenance": []
  },
  "kernelspec": {
   "display_name": "Python 3",
   "language": "python",
   "name": "python3"
  },
  "language_info": {
   "codemirror_mode": {
    "name": "ipython",
    "version": 3
   },
   "file_extension": ".py",
   "mimetype": "text/x-python",
   "name": "python",
   "nbconvert_exporter": "python",
   "pygments_lexer": "ipython3",
   "version": "3.6.10"
  },
  "widgets": {
   "application/vnd.jupyter.widget-state+json": {
    "25791cc3687d410c8d43eee4e6cf2859": {
     "model_module": "@jupyter-widgets/base",
     "model_name": "LayoutModel",
     "state": {
      "_model_module": "@jupyter-widgets/base",
      "_model_module_version": "1.2.0",
      "_model_name": "LayoutModel",
      "_view_count": null,
      "_view_module": "@jupyter-widgets/base",
      "_view_module_version": "1.2.0",
      "_view_name": "LayoutView",
      "align_content": null,
      "align_items": null,
      "align_self": null,
      "border": null,
      "bottom": null,
      "display": null,
      "flex": null,
      "flex_flow": null,
      "grid_area": null,
      "grid_auto_columns": null,
      "grid_auto_flow": null,
      "grid_auto_rows": null,
      "grid_column": null,
      "grid_gap": null,
      "grid_row": null,
      "grid_template_areas": null,
      "grid_template_columns": null,
      "grid_template_rows": null,
      "height": null,
      "justify_content": null,
      "justify_items": null,
      "left": null,
      "margin": null,
      "max_height": null,
      "max_width": null,
      "min_height": null,
      "min_width": null,
      "object_fit": null,
      "object_position": null,
      "order": null,
      "overflow": null,
      "overflow_x": null,
      "overflow_y": null,
      "padding": null,
      "right": null,
      "top": null,
      "visibility": null,
      "width": null
     }
    },
    "3872b590270a45928926fbe9910602ee": {
     "model_module": "@jupyter-widgets/controls",
     "model_name": "FloatProgressModel",
     "state": {
      "_dom_classes": [],
      "_model_module": "@jupyter-widgets/controls",
      "_model_module_version": "1.5.0",
      "_model_name": "FloatProgressModel",
      "_view_count": null,
      "_view_module": "@jupyter-widgets/controls",
      "_view_module_version": "1.5.0",
      "_view_name": "ProgressView",
      "bar_style": "success",
      "description": "Downloading: 100%",
      "description_tooltip": null,
      "layout": "IPY_MODEL_f48260e8c64a45b585411c0877392415",
      "max": 440473133,
      "min": 0,
      "orientation": "horizontal",
      "style": "IPY_MODEL_defc390ee26644308b7c8bbafcfeba50",
      "value": 440473133
     }
    },
    "4235708383084754b80fab7e2bf813b2": {
     "model_module": "@jupyter-widgets/controls",
     "model_name": "DescriptionStyleModel",
     "state": {
      "_model_module": "@jupyter-widgets/controls",
      "_model_module_version": "1.5.0",
      "_model_name": "DescriptionStyleModel",
      "_view_count": null,
      "_view_module": "@jupyter-widgets/base",
      "_view_module_version": "1.2.0",
      "_view_name": "StyleView",
      "description_width": ""
     }
    },
    "52382dd2d7154ed7948149812f1dcecf": {
     "model_module": "@jupyter-widgets/base",
     "model_name": "LayoutModel",
     "state": {
      "_model_module": "@jupyter-widgets/base",
      "_model_module_version": "1.2.0",
      "_model_name": "LayoutModel",
      "_view_count": null,
      "_view_module": "@jupyter-widgets/base",
      "_view_module_version": "1.2.0",
      "_view_name": "LayoutView",
      "align_content": null,
      "align_items": null,
      "align_self": null,
      "border": null,
      "bottom": null,
      "display": null,
      "flex": null,
      "flex_flow": null,
      "grid_area": null,
      "grid_auto_columns": null,
      "grid_auto_flow": null,
      "grid_auto_rows": null,
      "grid_column": null,
      "grid_gap": null,
      "grid_row": null,
      "grid_template_areas": null,
      "grid_template_columns": null,
      "grid_template_rows": null,
      "height": null,
      "justify_content": null,
      "justify_items": null,
      "left": null,
      "margin": null,
      "max_height": null,
      "max_width": null,
      "min_height": null,
      "min_width": null,
      "object_fit": null,
      "object_position": null,
      "order": null,
      "overflow": null,
      "overflow_x": null,
      "overflow_y": null,
      "padding": null,
      "right": null,
      "top": null,
      "visibility": null,
      "width": null
     }
    },
    "57d88193d5fb4d86a7447cb25beddc74": {
     "model_module": "@jupyter-widgets/controls",
     "model_name": "HTMLModel",
     "state": {
      "_dom_classes": [],
      "_model_module": "@jupyter-widgets/controls",
      "_model_module_version": "1.5.0",
      "_model_name": "HTMLModel",
      "_view_count": null,
      "_view_module": "@jupyter-widgets/controls",
      "_view_module_version": "1.5.0",
      "_view_name": "HTMLView",
      "description": "",
      "description_tooltip": null,
      "layout": "IPY_MODEL_d9e4d5ca36ca4ac0a9f07a8aa5471524",
      "placeholder": "​",
      "style": "IPY_MODEL_88b1510db98d47b3b960f24f303b00b7",
      "value": " 440M/440M [00:37&lt;00:00, 11.7MB/s]"
     }
    },
    "5fbfd0f44de34822ad7f45a955d0498c": {
     "model_module": "@jupyter-widgets/controls",
     "model_name": "HBoxModel",
     "state": {
      "_dom_classes": [],
      "_model_module": "@jupyter-widgets/controls",
      "_model_module_version": "1.5.0",
      "_model_name": "HBoxModel",
      "_view_count": null,
      "_view_module": "@jupyter-widgets/controls",
      "_view_module_version": "1.5.0",
      "_view_name": "HBoxView",
      "box_style": "",
      "children": [
       "IPY_MODEL_8a089600099740188e4f6a694d17e824",
       "IPY_MODEL_abab37bb762a42b7b388339f9e0c1582"
      ],
      "layout": "IPY_MODEL_25791cc3687d410c8d43eee4e6cf2859"
     }
    },
    "6fa14d37b6794d25b16fb7028b2b6e39": {
     "model_module": "@jupyter-widgets/controls",
     "model_name": "FloatProgressModel",
     "state": {
      "_dom_classes": [],
      "_model_module": "@jupyter-widgets/controls",
      "_model_module_version": "1.5.0",
      "_model_name": "FloatProgressModel",
      "_view_count": null,
      "_view_module": "@jupyter-widgets/controls",
      "_view_module_version": "1.5.0",
      "_view_name": "ProgressView",
      "bar_style": "success",
      "description": "Downloading: 100%",
      "description_tooltip": null,
      "layout": "IPY_MODEL_bd1cfb57c1674ec69478fd49aeb8dccc",
      "max": 433,
      "min": 0,
      "orientation": "horizontal",
      "style": "IPY_MODEL_8d810c70155e4c5e9bd846c79ccf774d",
      "value": 433
     }
    },
    "7dacc6829a6f4d3098bf84eb3b2550b8": {
     "model_module": "@jupyter-widgets/controls",
     "model_name": "HBoxModel",
     "state": {
      "_dom_classes": [],
      "_model_module": "@jupyter-widgets/controls",
      "_model_module_version": "1.5.0",
      "_model_name": "HBoxModel",
      "_view_count": null,
      "_view_module": "@jupyter-widgets/controls",
      "_view_module_version": "1.5.0",
      "_view_name": "HBoxView",
      "box_style": "",
      "children": [
       "IPY_MODEL_3872b590270a45928926fbe9910602ee",
       "IPY_MODEL_57d88193d5fb4d86a7447cb25beddc74"
      ],
      "layout": "IPY_MODEL_a298aee19a7e4b8cb30e6a8c78aa497a"
     }
    },
    "88b1510db98d47b3b960f24f303b00b7": {
     "model_module": "@jupyter-widgets/controls",
     "model_name": "DescriptionStyleModel",
     "state": {
      "_model_module": "@jupyter-widgets/controls",
      "_model_module_version": "1.5.0",
      "_model_name": "DescriptionStyleModel",
      "_view_count": null,
      "_view_module": "@jupyter-widgets/base",
      "_view_module_version": "1.2.0",
      "_view_name": "StyleView",
      "description_width": ""
     }
    },
    "8a089600099740188e4f6a694d17e824": {
     "model_module": "@jupyter-widgets/controls",
     "model_name": "FloatProgressModel",
     "state": {
      "_dom_classes": [],
      "_model_module": "@jupyter-widgets/controls",
      "_model_module_version": "1.5.0",
      "_model_name": "FloatProgressModel",
      "_view_count": null,
      "_view_module": "@jupyter-widgets/controls",
      "_view_module_version": "1.5.0",
      "_view_name": "ProgressView",
      "bar_style": "success",
      "description": "Downloading: 100%",
      "description_tooltip": null,
      "layout": "IPY_MODEL_52382dd2d7154ed7948149812f1dcecf",
      "max": 231508,
      "min": 0,
      "orientation": "horizontal",
      "style": "IPY_MODEL_eb5d9b378763414c8d82f63eeb8db9ac",
      "value": 231508
     }
    },
    "8d7f60e81f754a258919b34858a7865a": {
     "model_module": "@jupyter-widgets/controls",
     "model_name": "HTMLModel",
     "state": {
      "_dom_classes": [],
      "_model_module": "@jupyter-widgets/controls",
      "_model_module_version": "1.5.0",
      "_model_name": "HTMLModel",
      "_view_count": null,
      "_view_module": "@jupyter-widgets/controls",
      "_view_module_version": "1.5.0",
      "_view_name": "HTMLView",
      "description": "",
      "description_tooltip": null,
      "layout": "IPY_MODEL_e154956665e341b283bfe3346ac204f3",
      "placeholder": "​",
      "style": "IPY_MODEL_4235708383084754b80fab7e2bf813b2",
      "value": " 433/433 [00:01&lt;00:00, 269B/s]"
     }
    },
    "8d810c70155e4c5e9bd846c79ccf774d": {
     "model_module": "@jupyter-widgets/controls",
     "model_name": "ProgressStyleModel",
     "state": {
      "_model_module": "@jupyter-widgets/controls",
      "_model_module_version": "1.5.0",
      "_model_name": "ProgressStyleModel",
      "_view_count": null,
      "_view_module": "@jupyter-widgets/base",
      "_view_module_version": "1.2.0",
      "_view_name": "StyleView",
      "bar_color": null,
      "description_width": "initial"
     }
    },
    "a298aee19a7e4b8cb30e6a8c78aa497a": {
     "model_module": "@jupyter-widgets/base",
     "model_name": "LayoutModel",
     "state": {
      "_model_module": "@jupyter-widgets/base",
      "_model_module_version": "1.2.0",
      "_model_name": "LayoutModel",
      "_view_count": null,
      "_view_module": "@jupyter-widgets/base",
      "_view_module_version": "1.2.0",
      "_view_name": "LayoutView",
      "align_content": null,
      "align_items": null,
      "align_self": null,
      "border": null,
      "bottom": null,
      "display": null,
      "flex": null,
      "flex_flow": null,
      "grid_area": null,
      "grid_auto_columns": null,
      "grid_auto_flow": null,
      "grid_auto_rows": null,
      "grid_column": null,
      "grid_gap": null,
      "grid_row": null,
      "grid_template_areas": null,
      "grid_template_columns": null,
      "grid_template_rows": null,
      "height": null,
      "justify_content": null,
      "justify_items": null,
      "left": null,
      "margin": null,
      "max_height": null,
      "max_width": null,
      "min_height": null,
      "min_width": null,
      "object_fit": null,
      "object_position": null,
      "order": null,
      "overflow": null,
      "overflow_x": null,
      "overflow_y": null,
      "padding": null,
      "right": null,
      "top": null,
      "visibility": null,
      "width": null
     }
    },
    "a9cee0ad0c9b4d919270faf42b1a4112": {
     "model_module": "@jupyter-widgets/base",
     "model_name": "LayoutModel",
     "state": {
      "_model_module": "@jupyter-widgets/base",
      "_model_module_version": "1.2.0",
      "_model_name": "LayoutModel",
      "_view_count": null,
      "_view_module": "@jupyter-widgets/base",
      "_view_module_version": "1.2.0",
      "_view_name": "LayoutView",
      "align_content": null,
      "align_items": null,
      "align_self": null,
      "border": null,
      "bottom": null,
      "display": null,
      "flex": null,
      "flex_flow": null,
      "grid_area": null,
      "grid_auto_columns": null,
      "grid_auto_flow": null,
      "grid_auto_rows": null,
      "grid_column": null,
      "grid_gap": null,
      "grid_row": null,
      "grid_template_areas": null,
      "grid_template_columns": null,
      "grid_template_rows": null,
      "height": null,
      "justify_content": null,
      "justify_items": null,
      "left": null,
      "margin": null,
      "max_height": null,
      "max_width": null,
      "min_height": null,
      "min_width": null,
      "object_fit": null,
      "object_position": null,
      "order": null,
      "overflow": null,
      "overflow_x": null,
      "overflow_y": null,
      "padding": null,
      "right": null,
      "top": null,
      "visibility": null,
      "width": null
     }
    },
    "abab37bb762a42b7b388339f9e0c1582": {
     "model_module": "@jupyter-widgets/controls",
     "model_name": "HTMLModel",
     "state": {
      "_dom_classes": [],
      "_model_module": "@jupyter-widgets/controls",
      "_model_module_version": "1.5.0",
      "_model_name": "HTMLModel",
      "_view_count": null,
      "_view_module": "@jupyter-widgets/controls",
      "_view_module_version": "1.5.0",
      "_view_name": "HTMLView",
      "description": "",
      "description_tooltip": null,
      "layout": "IPY_MODEL_ced6bc90616344c8b83be316395f08bd",
      "placeholder": "​",
      "style": "IPY_MODEL_d8a69eeaa4ff4eee979669a1fe7fe44e",
      "value": " 232k/232k [00:00&lt;00:00, 298kB/s]"
     }
    },
    "bd1cfb57c1674ec69478fd49aeb8dccc": {
     "model_module": "@jupyter-widgets/base",
     "model_name": "LayoutModel",
     "state": {
      "_model_module": "@jupyter-widgets/base",
      "_model_module_version": "1.2.0",
      "_model_name": "LayoutModel",
      "_view_count": null,
      "_view_module": "@jupyter-widgets/base",
      "_view_module_version": "1.2.0",
      "_view_name": "LayoutView",
      "align_content": null,
      "align_items": null,
      "align_self": null,
      "border": null,
      "bottom": null,
      "display": null,
      "flex": null,
      "flex_flow": null,
      "grid_area": null,
      "grid_auto_columns": null,
      "grid_auto_flow": null,
      "grid_auto_rows": null,
      "grid_column": null,
      "grid_gap": null,
      "grid_row": null,
      "grid_template_areas": null,
      "grid_template_columns": null,
      "grid_template_rows": null,
      "height": null,
      "justify_content": null,
      "justify_items": null,
      "left": null,
      "margin": null,
      "max_height": null,
      "max_width": null,
      "min_height": null,
      "min_width": null,
      "object_fit": null,
      "object_position": null,
      "order": null,
      "overflow": null,
      "overflow_x": null,
      "overflow_y": null,
      "padding": null,
      "right": null,
      "top": null,
      "visibility": null,
      "width": null
     }
    },
    "c2ab08d012194caaa9ab0c1bcde87bd7": {
     "model_module": "@jupyter-widgets/controls",
     "model_name": "HBoxModel",
     "state": {
      "_dom_classes": [],
      "_model_module": "@jupyter-widgets/controls",
      "_model_module_version": "1.5.0",
      "_model_name": "HBoxModel",
      "_view_count": null,
      "_view_module": "@jupyter-widgets/controls",
      "_view_module_version": "1.5.0",
      "_view_name": "HBoxView",
      "box_style": "",
      "children": [
       "IPY_MODEL_6fa14d37b6794d25b16fb7028b2b6e39",
       "IPY_MODEL_8d7f60e81f754a258919b34858a7865a"
      ],
      "layout": "IPY_MODEL_a9cee0ad0c9b4d919270faf42b1a4112"
     }
    },
    "ced6bc90616344c8b83be316395f08bd": {
     "model_module": "@jupyter-widgets/base",
     "model_name": "LayoutModel",
     "state": {
      "_model_module": "@jupyter-widgets/base",
      "_model_module_version": "1.2.0",
      "_model_name": "LayoutModel",
      "_view_count": null,
      "_view_module": "@jupyter-widgets/base",
      "_view_module_version": "1.2.0",
      "_view_name": "LayoutView",
      "align_content": null,
      "align_items": null,
      "align_self": null,
      "border": null,
      "bottom": null,
      "display": null,
      "flex": null,
      "flex_flow": null,
      "grid_area": null,
      "grid_auto_columns": null,
      "grid_auto_flow": null,
      "grid_auto_rows": null,
      "grid_column": null,
      "grid_gap": null,
      "grid_row": null,
      "grid_template_areas": null,
      "grid_template_columns": null,
      "grid_template_rows": null,
      "height": null,
      "justify_content": null,
      "justify_items": null,
      "left": null,
      "margin": null,
      "max_height": null,
      "max_width": null,
      "min_height": null,
      "min_width": null,
      "object_fit": null,
      "object_position": null,
      "order": null,
      "overflow": null,
      "overflow_x": null,
      "overflow_y": null,
      "padding": null,
      "right": null,
      "top": null,
      "visibility": null,
      "width": null
     }
    },
    "d8a69eeaa4ff4eee979669a1fe7fe44e": {
     "model_module": "@jupyter-widgets/controls",
     "model_name": "DescriptionStyleModel",
     "state": {
      "_model_module": "@jupyter-widgets/controls",
      "_model_module_version": "1.5.0",
      "_model_name": "DescriptionStyleModel",
      "_view_count": null,
      "_view_module": "@jupyter-widgets/base",
      "_view_module_version": "1.2.0",
      "_view_name": "StyleView",
      "description_width": ""
     }
    },
    "d9e4d5ca36ca4ac0a9f07a8aa5471524": {
     "model_module": "@jupyter-widgets/base",
     "model_name": "LayoutModel",
     "state": {
      "_model_module": "@jupyter-widgets/base",
      "_model_module_version": "1.2.0",
      "_model_name": "LayoutModel",
      "_view_count": null,
      "_view_module": "@jupyter-widgets/base",
      "_view_module_version": "1.2.0",
      "_view_name": "LayoutView",
      "align_content": null,
      "align_items": null,
      "align_self": null,
      "border": null,
      "bottom": null,
      "display": null,
      "flex": null,
      "flex_flow": null,
      "grid_area": null,
      "grid_auto_columns": null,
      "grid_auto_flow": null,
      "grid_auto_rows": null,
      "grid_column": null,
      "grid_gap": null,
      "grid_row": null,
      "grid_template_areas": null,
      "grid_template_columns": null,
      "grid_template_rows": null,
      "height": null,
      "justify_content": null,
      "justify_items": null,
      "left": null,
      "margin": null,
      "max_height": null,
      "max_width": null,
      "min_height": null,
      "min_width": null,
      "object_fit": null,
      "object_position": null,
      "order": null,
      "overflow": null,
      "overflow_x": null,
      "overflow_y": null,
      "padding": null,
      "right": null,
      "top": null,
      "visibility": null,
      "width": null
     }
    },
    "defc390ee26644308b7c8bbafcfeba50": {
     "model_module": "@jupyter-widgets/controls",
     "model_name": "ProgressStyleModel",
     "state": {
      "_model_module": "@jupyter-widgets/controls",
      "_model_module_version": "1.5.0",
      "_model_name": "ProgressStyleModel",
      "_view_count": null,
      "_view_module": "@jupyter-widgets/base",
      "_view_module_version": "1.2.0",
      "_view_name": "StyleView",
      "bar_color": null,
      "description_width": "initial"
     }
    },
    "e154956665e341b283bfe3346ac204f3": {
     "model_module": "@jupyter-widgets/base",
     "model_name": "LayoutModel",
     "state": {
      "_model_module": "@jupyter-widgets/base",
      "_model_module_version": "1.2.0",
      "_model_name": "LayoutModel",
      "_view_count": null,
      "_view_module": "@jupyter-widgets/base",
      "_view_module_version": "1.2.0",
      "_view_name": "LayoutView",
      "align_content": null,
      "align_items": null,
      "align_self": null,
      "border": null,
      "bottom": null,
      "display": null,
      "flex": null,
      "flex_flow": null,
      "grid_area": null,
      "grid_auto_columns": null,
      "grid_auto_flow": null,
      "grid_auto_rows": null,
      "grid_column": null,
      "grid_gap": null,
      "grid_row": null,
      "grid_template_areas": null,
      "grid_template_columns": null,
      "grid_template_rows": null,
      "height": null,
      "justify_content": null,
      "justify_items": null,
      "left": null,
      "margin": null,
      "max_height": null,
      "max_width": null,
      "min_height": null,
      "min_width": null,
      "object_fit": null,
      "object_position": null,
      "order": null,
      "overflow": null,
      "overflow_x": null,
      "overflow_y": null,
      "padding": null,
      "right": null,
      "top": null,
      "visibility": null,
      "width": null
     }
    },
    "eb5d9b378763414c8d82f63eeb8db9ac": {
     "model_module": "@jupyter-widgets/controls",
     "model_name": "ProgressStyleModel",
     "state": {
      "_model_module": "@jupyter-widgets/controls",
      "_model_module_version": "1.5.0",
      "_model_name": "ProgressStyleModel",
      "_view_count": null,
      "_view_module": "@jupyter-widgets/base",
      "_view_module_version": "1.2.0",
      "_view_name": "StyleView",
      "bar_color": null,
      "description_width": "initial"
     }
    },
    "f48260e8c64a45b585411c0877392415": {
     "model_module": "@jupyter-widgets/base",
     "model_name": "LayoutModel",
     "state": {
      "_model_module": "@jupyter-widgets/base",
      "_model_module_version": "1.2.0",
      "_model_name": "LayoutModel",
      "_view_count": null,
      "_view_module": "@jupyter-widgets/base",
      "_view_module_version": "1.2.0",
      "_view_name": "LayoutView",
      "align_content": null,
      "align_items": null,
      "align_self": null,
      "border": null,
      "bottom": null,
      "display": null,
      "flex": null,
      "flex_flow": null,
      "grid_area": null,
      "grid_auto_columns": null,
      "grid_auto_flow": null,
      "grid_auto_rows": null,
      "grid_column": null,
      "grid_gap": null,
      "grid_row": null,
      "grid_template_areas": null,
      "grid_template_columns": null,
      "grid_template_rows": null,
      "height": null,
      "justify_content": null,
      "justify_items": null,
      "left": null,
      "margin": null,
      "max_height": null,
      "max_width": null,
      "min_height": null,
      "min_width": null,
      "object_fit": null,
      "object_position": null,
      "order": null,
      "overflow": null,
      "overflow_x": null,
      "overflow_y": null,
      "padding": null,
      "right": null,
      "top": null,
      "visibility": null,
      "width": null
     }
    }
   }
  }
 },
 "nbformat": 4,
 "nbformat_minor": 1
}
