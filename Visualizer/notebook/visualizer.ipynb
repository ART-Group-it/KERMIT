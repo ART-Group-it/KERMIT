{
  "nbformat": 4,
  "nbformat_minor": 0,
  "metadata": {
    "colab": {
      "name": "Untitled0.ipynb",
      "provenance": [],
      "collapsed_sections": []
    },
    "kernelspec": {
      "name": "python3",
      "display_name": "Python 3"
    }
  },
  "cells": [
    {
      "cell_type": "markdown",
      "metadata": {
        "id": "Kq0Sq1pWxFUc"
      },
      "source": [
        "This is the last part of KERMIT Notebook"
      ]
    },
    {
      "cell_type": "code",
      "metadata": {
        "id": "tQagCyN5Qloz"
      },
      "source": [
        "import IPython\n",
        "import fileinput"
      ],
      "execution_count": null,
      "outputs": []
    },
    {
      "cell_type": "code",
      "metadata": {
        "id": "hQb6ROp3ckS8"
      },
      "source": [
        "string = input('Enter your Heat Parse Tree: ')\n",
        "brotherDistance = input('Enter brother Distance in px: ')\n",
        "levelLength = input('Enter level Lenght in px: ')"
      ],
      "execution_count": null,
      "outputs": []
    },
    {
      "cell_type": "code",
      "metadata": {
        "id": "yTVyApVftPXR"
      },
      "source": [
        "string\n",
        "brotherDistance\n",
        "levelLength\n",
        " \n",
        "name = \"var string\"\n",
        "name1 = \"var brotherDistance\"\n",
        "name2 = \"var levelLength\"\n",
        " \n",
        "with open('/content/drive/My Drive/Colab Notebooks/files/index.html','r') as names_file:\n",
        "    content = names_file.read()\n",
        "    new = content.replace(name, '='.join([name, '\"' + string + '\"']))\n",
        "    new = new.replace(name1, '='.join([name1, brotherDistance]))\n",
        "    new = new.replace(name2, '='.join([name2, levelLength]))\n",
        " \n",
        "with open('/content/drive/My Drive/Colab Notebooks/files/index.html','w') as new_names_file:\n",
        "    new_names_file.write(new)\n",
        " \n",
        "\n",
        "with open('/content/drive/My Drive/Colab Notebooks/files/index2.html','r') as names_file:\n",
        "    content = names_file.read()\n",
        "    new = content.replace(name, '='.join([name, '\"' + string + '\"']))\n",
        "    new = new.replace(name1, '='.join([name1, brotherDistance]))\n",
        "    new = new.replace(name2, '='.join([name2, levelLength]))\n",
        " \n",
        "with open('/content/drive/My Drive/Colab Notebooks/files/index2.html','w') as new_names_file:\n",
        "    new_names_file.write(new)"
      ],
      "execution_count": null,
      "outputs": []
    },
    {
      "cell_type": "markdown",
      "metadata": {
        "id": "tACinFUiySKF"
      },
      "source": [
        "Now we can draw the Heat Parse Tree"
      ]
    },
    {
      "cell_type": "code",
      "metadata": {
        "id": "LWxHdW10PVB2"
      },
      "source": [
        "#Version 1\n",
        "IPython.display.HTML(filename='/content/drive/My Drive/Colab Notebooks/files/index.html')"
      ],
      "execution_count": null,
      "outputs": []
    },
    {
      "cell_type": "markdown",
      "metadata": {
        "id": "IiDlotl2xfgL"
      },
      "source": [
        "After drawing the Heat Parse Tree we must restore the file to draw a new Heat Parse Tree"
      ]
    },
    {
      "cell_type": "code",
      "metadata": {
        "id": "MmSPtG0Bc6K6"
      },
      "source": [
        "#Version 2\n",
        "IPython.display.HTML(filename='/content/drive/My Drive/Colab Notebooks/files/index2.html')"
      ],
      "execution_count": null,
      "outputs": []
    },
    {
      "cell_type": "code",
      "metadata": {
        "id": "pfL3JGeuV85Z"
      },
      "source": [
        "name = \"var string\"\n",
        "name1 = \"var brotherDistance\"\n",
        "name2 = \"var levelLength\"\n",
        "\n",
        "\n",
        "x =  open(\"/content/drive/My Drive/Colab Notebooks/files/index.html\", \"r\")\n",
        "\n",
        "lines = x.readlines()\n",
        "for i, line in enumerate(lines):\n",
        "  if name in line:\n",
        "    lines[i] = name + '\\n'\n",
        "  elif name1 in line:\n",
        "    lines[i] = name1 + '\\n'\n",
        "  elif name2 in line:\n",
        "    lines[i] = name2 + '\\n'\n",
        "\n",
        "\n",
        "x =  open(\"/content/drive/My Drive/Colab Notebooks/files/index.html\", \"w\")\n",
        "x.writelines(lines)\n",
        "x.close()\n",
        "\n",
        "x =  open(\"/content/drive/My Drive/Colab Notebooks/files/index2.html\", \"r\")\n",
        "\n",
        "lines = x.readlines()\n",
        "for i, line in enumerate(lines):\n",
        "  if name in line:\n",
        "    lines[i] = name + '\\n'\n",
        "  elif name1 in line:\n",
        "    lines[i] = name1 + '\\n'\n",
        "  elif name2 in line:\n",
        "    lines[i] = name2 + '\\n'\n",
        "\n",
        "\n",
        "x =  open(\"/content/drive/My Drive/Colab Notebooks/files/index2.html\", \"w\")\n",
        "x.writelines(lines)\n",
        "x.close()"
      ],
      "execution_count": null,
      "outputs": []
    }
  ]
}